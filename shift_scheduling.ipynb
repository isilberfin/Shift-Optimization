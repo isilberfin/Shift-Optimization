{
  "nbformat": 4,
  "nbformat_minor": 0,
  "metadata": {
    "colab": {
      "provenance": []
    },
    "kernelspec": {
      "name": "python3",
      "display_name": "Python 3"
    },
    "language_info": {
      "name": "python"
    }
  },
  "cells": [
    {
      "cell_type": "markdown",
      "source": [
        "#### Shift Optimization\n",
        "##### we will use Google OR Tools for our case. OR-Tools is an open source software suite for optimization, tuned for tackling the world's toughest problems in vehicle routing, flows, integer and linear programming, and constraint programming. Let's start with installation and imports"
      ],
      "metadata": {
        "id": "H5m10ThARTdP"
      }
    },
    {
      "cell_type": "code",
      "source": [
        "!pip install ortools\n",
        "from ortools.sat.python import cp_model\n",
        "import pandas as pd"
      ],
      "metadata": {
        "id": "yFMtzf53z3e0"
      },
      "execution_count": null,
      "outputs": []
    },
    {
      "cell_type": "markdown",
      "source": [
        "##### **Constraint Programming (CP) :** CP is the name given to identifying feasible solutions out of a very large set of candidates, where the problem can be modeled in terms of arbitrary constraints.\n",
        "CP is based on feasibility (finding a feasible solution) rather than optimization (finding an optimal solution) and focuses on the constraints and variables rather than the objective function. In fact, a CP problem may not even have an objective function — the goal may simply be to narrow down a very large set of possible solutions to a more manageable subset by adding constraints to the problem.\n",
        "\n",
        "An example of a problem that is well-suited for CP is employee scheduling.  \n",
        "\n",
        "##### **CP-SAT solver :** To call Google's CP-SAT solver we need to call some variables, constraints and objective function."
      ],
      "metadata": {
        "id": "F6HO63eGS5jv"
      }
    },
    {
      "cell_type": "code",
      "source": [
        "def dynamic_shift_optimization(num_employees, num_shifts, num_days, shift_density, employee_preferences):\n",
        "    model = cp_model.CpModel()\n",
        "\n",
        "    all_employees = range(num_employees)\n",
        "    all_shifts = range(num_shifts)\n",
        "    all_days = range(num_days)\n",
        "\n",
        "    # Decision Variables:\n",
        "    shifts = {(e, d, s): model.NewBoolVar(f\"shift_e{e}_d{d}_s{s}\") for e in all_employees for d in all_days for s in all_shifts}\n",
        "\n",
        "    # Constraints :\n",
        "    # 1- Shift-density constraints: Specify the number of employees required for each shift on each day\n",
        "    for d in all_days:\n",
        "        for s in all_shifts:\n",
        "            if s == 1:  # High demand shift\n",
        "                model.Add(sum(shifts[(e, d, s)] for e in all_employees) == 2)\n",
        "            else:\n",
        "                model.Add(sum(shifts[(e, d, s)] for e in all_employees) == shift_density)\n",
        "\n",
        "    # 2- Employee works at most one shift per day\n",
        "    for e in all_employees:\n",
        "        for d in all_days:\n",
        "            model.Add(sum(shifts[(e, d, s)] for s in all_shifts) <= 1)\n",
        "\n",
        "    # Objective function :\n",
        "    # Maximize Employee Satisfaction\n",
        "    model.Maximize(\n",
        "        sum(\n",
        "            employee_preferences[e][d][s] * shifts[(e, d, s)]\n",
        "            for e in all_employees\n",
        "            for d in all_days\n",
        "            for s in all_shifts\n",
        "        )\n",
        "    )\n",
        "\n",
        "    # Solve the model\n",
        "    solver = cp_model.CpSolver()\n",
        "    status = solver.Solve(model)\n",
        "\n",
        "    # Output Solution to DataFrame\n",
        "    if status == cp_model.OPTIMAL:\n",
        "        matrix_data = [[None] * num_days for _ in range(num_shifts)]\n",
        "\n",
        "        for d in all_days:\n",
        "            for s in all_shifts:\n",
        "                employees_assigned = [e for e in all_employees if solver.Value(shifts[(e, d, s)]) == 1]\n",
        "                matrix_data[s][d] = ', '.join(f\"Employee {e}\" for e in employees_assigned)\n",
        "\n",
        "        # Creating necessary mappings\n",
        "        shift_mapping = {0: \"08:00-11:00\", 1: \"11:00-14:00\", 2: \"14:00-17:00\"}\n",
        "        matrix_df = pd.DataFrame(matrix_data, index=[f\"Shift {shift_mapping[s]}\" for s in all_shifts],\n",
        "                                 columns=[\"Monday\", \"Tuesday\", \"Wednesday\", \"Thursday\", \"Friday\"])\n",
        "\n",
        "        # Calculate Total Preferences Met Metric\n",
        "        total_preferences_met = sum(\n",
        "            employee_preferences[e][d][s] == 1\n",
        "            for e in all_employees\n",
        "            for d in all_days\n",
        "            for s in all_shifts\n",
        "        )\n",
        "\n",
        "        print(f\"\\nTotal Preferences Met: {total_preferences_met}/{num_employees * num_days * num_shifts}\\n\")\n",
        "        print(matrix_df)\n",
        "\n",
        "        # Save DataFrame to Excel file\n",
        "        matrix_df.to_excel(\"shift_optimization_solution_matrix.xlsx\")\n",
        "        print(\"\\nSolution saved to 'shift_optimization_solution_matrix.xlsx'\")\n",
        "    else:\n",
        "        print(\"No optimal solution found!\")\n",
        "\n",
        "# Example usage\n",
        "num_employees = 5\n",
        "num_shifts = 3\n",
        "num_days = 5  # Adjusted for 5 business days\n",
        "shift_density = 1  # Example, adjust based on business needs\n",
        "employee_preferences = [[[0, 0, 1], [0, 0, 0], [0, 0, 0], [0, 0, 0], [0, 0, 1]],\n",
        "                        [[0, 0, 0], [0, 0, 0], [0, 1, 0], [0, 1, 0], [1, 0, 0]],\n",
        "                        [[0, 1, 0], [0, 1, 0], [0, 0, 0], [1, 0, 0], [0, 0, 0]],\n",
        "                        [[0, 0, 1], [0, 0, 0], [1, 0, 0], [0, 1, 0], [0, 0, 0]],\n",
        "                        [[0, 0, 0], [0, 0, 1], [0, 1, 0], [0, 0, 0], [1, 0, 0]]]\n",
        "\n",
        "dynamic_shift_optimization(num_employees, num_shifts, num_days,shift_density,employee_preferences)"
      ],
      "metadata": {
        "colab": {
          "base_uri": "https://localhost:8080/"
        },
        "id": "fPR8iTOFSr1O",
        "outputId": "5a54ec6e-ddf6-4657-a0ed-682a410ed75c"
      },
      "execution_count": null,
      "outputs": [
        {
          "output_type": "stream",
          "name": "stdout",
          "text": [
            "\n",
            "Total Preferences Met: 14/75\n",
            "\n",
            "                                   Monday                 Tuesday  \\\n",
            "Shift 08:00-11:00              Employee 1              Employee 0   \n",
            "Shift 11:00-14:00  Employee 2, Employee 3  Employee 1, Employee 2   \n",
            "Shift 14:00-17:00              Employee 0              Employee 4   \n",
            "\n",
            "                                Wednesday                Thursday  \\\n",
            "Shift 08:00-11:00              Employee 3              Employee 2   \n",
            "Shift 11:00-14:00  Employee 1, Employee 4  Employee 1, Employee 3   \n",
            "Shift 14:00-17:00              Employee 2              Employee 4   \n",
            "\n",
            "                                   Friday  \n",
            "Shift 08:00-11:00              Employee 4  \n",
            "Shift 11:00-14:00  Employee 1, Employee 2  \n",
            "Shift 14:00-17:00              Employee 0  \n",
            "\n",
            "Solution saved to 'shift_optimization_solution_matrix.xlsx'\n"
          ]
        }
      ]
    }
  ]
}
